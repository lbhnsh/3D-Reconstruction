{
  "cells": [
    {
      "cell_type": "code",
      "execution_count": null,
      "metadata": {
        "colab": {
          "base_uri": "https://localhost:8080/"
        },
        "id": "VxZFwbH82oXw",
        "outputId": "8e3a84ff-e147-4446-b29b-ac364ebd177e"
      },
      "outputs": [
        {
          "output_type": "stream",
          "name": "stdout",
          "text": [
            "nvcc: NVIDIA (R) Cuda compiler driver\n",
            "Copyright (c) 2005-2022 NVIDIA Corporation\n",
            "Built on Wed_Sep_21_10:33:58_PDT_2022\n",
            "Cuda compilation tools, release 11.8, V11.8.89\n",
            "Build cuda_11.8.r11.8/compiler.31833905_0\n"
          ]
        }
      ],
      "source": [
        "!nvcc --version"
      ]
    },
    {
      "cell_type": "code",
      "execution_count": null,
      "metadata": {
        "id": "4iQMxgPMkdgO"
      },
      "outputs": [],
      "source": [
        "import numpy as np\n",
        "import torch\n",
        "import torch.nn as nn\n",
        "import torch.nn.functional as fun\n",
        "import math"
      ]
    },
    {
      "cell_type": "code",
      "execution_count": null,
      "metadata": {
        "colab": {
          "base_uri": "https://localhost:8080/"
        },
        "id": "maWwJkBr_b7f",
        "outputId": "4a1578e0-7cb5-4296-c475-4041d910cd30"
      },
      "outputs": [
        {
          "output_type": "stream",
          "name": "stdout",
          "text": [
            "Collecting torch3d\n",
            "  Downloading torch3d-0.1.tar.gz (1.1 kB)\n",
            "  Preparing metadata (setup.py) ... \u001b[?25l\u001b[?25hdone\n",
            "Collecting gendr (from torch3d)\n",
            "  Downloading gendr-0.1.0.tar.gz (30 kB)\n",
            "  Preparing metadata (setup.py) ... \u001b[?25l\u001b[?25hdone\n",
            "Requirement already satisfied: numpy in /usr/local/lib/python3.10/dist-packages (from gendr->torch3d) (1.23.5)\n",
            "Requirement already satisfied: torch>=1.9.0 in /usr/local/lib/python3.10/dist-packages (from gendr->torch3d) (2.1.0+cu118)\n",
            "Requirement already satisfied: scikit-image in /usr/local/lib/python3.10/dist-packages (from gendr->torch3d) (0.19.3)\n",
            "Requirement already satisfied: tqdm in /usr/local/lib/python3.10/dist-packages (from gendr->torch3d) (4.66.1)\n",
            "Requirement already satisfied: imageio in /usr/local/lib/python3.10/dist-packages (from gendr->torch3d) (2.31.6)\n",
            "Requirement already satisfied: filelock in /usr/local/lib/python3.10/dist-packages (from torch>=1.9.0->gendr->torch3d) (3.12.4)\n",
            "Requirement already satisfied: typing-extensions in /usr/local/lib/python3.10/dist-packages (from torch>=1.9.0->gendr->torch3d) (4.5.0)\n",
            "Requirement already satisfied: sympy in /usr/local/lib/python3.10/dist-packages (from torch>=1.9.0->gendr->torch3d) (1.12)\n",
            "Requirement already satisfied: networkx in /usr/local/lib/python3.10/dist-packages (from torch>=1.9.0->gendr->torch3d) (3.2)\n",
            "Requirement already satisfied: jinja2 in /usr/local/lib/python3.10/dist-packages (from torch>=1.9.0->gendr->torch3d) (3.1.2)\n",
            "Requirement already satisfied: fsspec in /usr/local/lib/python3.10/dist-packages (from torch>=1.9.0->gendr->torch3d) (2023.6.0)\n",
            "Requirement already satisfied: triton==2.1.0 in /usr/local/lib/python3.10/dist-packages (from torch>=1.9.0->gendr->torch3d) (2.1.0)\n",
            "Requirement already satisfied: pillow<10.1.0,>=8.3.2 in /usr/local/lib/python3.10/dist-packages (from imageio->gendr->torch3d) (9.4.0)\n",
            "Requirement already satisfied: scipy>=1.4.1 in /usr/local/lib/python3.10/dist-packages (from scikit-image->gendr->torch3d) (1.11.3)\n",
            "Requirement already satisfied: tifffile>=2019.7.26 in /usr/local/lib/python3.10/dist-packages (from scikit-image->gendr->torch3d) (2023.9.26)\n",
            "Requirement already satisfied: PyWavelets>=1.1.1 in /usr/local/lib/python3.10/dist-packages (from scikit-image->gendr->torch3d) (1.4.1)\n",
            "Requirement already satisfied: packaging>=20.0 in /usr/local/lib/python3.10/dist-packages (from scikit-image->gendr->torch3d) (23.2)\n",
            "Requirement already satisfied: MarkupSafe>=2.0 in /usr/local/lib/python3.10/dist-packages (from jinja2->torch>=1.9.0->gendr->torch3d) (2.1.3)\n",
            "Requirement already satisfied: mpmath>=0.19 in /usr/local/lib/python3.10/dist-packages (from sympy->torch>=1.9.0->gendr->torch3d) (1.3.0)\n",
            "Building wheels for collected packages: torch3d, gendr\n",
            "  Building wheel for torch3d (setup.py) ... \u001b[?25l\u001b[?25hdone\n",
            "  Created wheel for torch3d: filename=torch3d-0.1-py2.py3-none-any.whl size=1096 sha256=ab3721986116812dbc4d793fac126bf919f6eb76219fe918fcb15d84ec9eee21\n",
            "  Stored in directory: /root/.cache/pip/wheels/ef/f3/2d/016f38ed39e5a41e02180b4439bccdef7adbd43c88bc05e104\n",
            "  Building wheel for gendr (setup.py) ... \u001b[?25l\u001b[?25hdone\n",
            "  Created wheel for gendr: filename=gendr-0.1.0-cp310-cp310-linux_x86_64.whl size=10568963 sha256=75cc92b71ac397d82f51ded433a66c4a794a9487050d393d6c668fc2a53a63d4\n",
            "  Stored in directory: /root/.cache/pip/wheels/1e/24/3c/769829ec073aa1a59527e0363b074f3ceb9a0e5ea5de45d0a4\n",
            "Successfully built torch3d gendr\n",
            "Installing collected packages: gendr, torch3d\n",
            "Successfully installed gendr-0.1.0 torch3d-0.1\n"
          ]
        }
      ],
      "source": [
        "pip install torch3d"
      ]
    },
    {
      "cell_type": "code",
      "source": [
        "pip install torchvision"
      ],
      "metadata": {
        "colab": {
          "base_uri": "https://localhost:8080/"
        },
        "id": "D4dQel0TcKAR",
        "outputId": "50e5acb3-cc4d-497e-d5a8-82d88c216578"
      },
      "execution_count": null,
      "outputs": [
        {
          "output_type": "stream",
          "name": "stdout",
          "text": [
            "Requirement already satisfied: torchvision in /usr/local/lib/python3.10/dist-packages (0.16.0+cu118)\n",
            "Requirement already satisfied: numpy in /usr/local/lib/python3.10/dist-packages (from torchvision) (1.23.5)\n",
            "Requirement already satisfied: requests in /usr/local/lib/python3.10/dist-packages (from torchvision) (2.31.0)\n",
            "Requirement already satisfied: torch==2.1.0 in /usr/local/lib/python3.10/dist-packages (from torchvision) (2.1.0+cu118)\n",
            "Requirement already satisfied: pillow!=8.3.*,>=5.3.0 in /usr/local/lib/python3.10/dist-packages (from torchvision) (9.4.0)\n",
            "Requirement already satisfied: filelock in /usr/local/lib/python3.10/dist-packages (from torch==2.1.0->torchvision) (3.12.4)\n",
            "Requirement already satisfied: typing-extensions in /usr/local/lib/python3.10/dist-packages (from torch==2.1.0->torchvision) (4.5.0)\n",
            "Requirement already satisfied: sympy in /usr/local/lib/python3.10/dist-packages (from torch==2.1.0->torchvision) (1.12)\n",
            "Requirement already satisfied: networkx in /usr/local/lib/python3.10/dist-packages (from torch==2.1.0->torchvision) (3.2)\n",
            "Requirement already satisfied: jinja2 in /usr/local/lib/python3.10/dist-packages (from torch==2.1.0->torchvision) (3.1.2)\n",
            "Requirement already satisfied: fsspec in /usr/local/lib/python3.10/dist-packages (from torch==2.1.0->torchvision) (2023.6.0)\n",
            "Requirement already satisfied: triton==2.1.0 in /usr/local/lib/python3.10/dist-packages (from torch==2.1.0->torchvision) (2.1.0)\n",
            "Requirement already satisfied: charset-normalizer<4,>=2 in /usr/local/lib/python3.10/dist-packages (from requests->torchvision) (3.3.1)\n",
            "Requirement already satisfied: idna<4,>=2.5 in /usr/local/lib/python3.10/dist-packages (from requests->torchvision) (3.4)\n",
            "Requirement already satisfied: urllib3<3,>=1.21.1 in /usr/local/lib/python3.10/dist-packages (from requests->torchvision) (2.0.7)\n",
            "Requirement already satisfied: certifi>=2017.4.17 in /usr/local/lib/python3.10/dist-packages (from requests->torchvision) (2023.7.22)\n",
            "Requirement already satisfied: MarkupSafe>=2.0 in /usr/local/lib/python3.10/dist-packages (from jinja2->torch==2.1.0->torchvision) (2.1.3)\n",
            "Requirement already satisfied: mpmath>=0.19 in /usr/local/lib/python3.10/dist-packages (from sympy->torch==2.1.0->torchvision) (1.3.0)\n"
          ]
        }
      ]
    },
    {
      "cell_type": "code",
      "source": [
        "pip install --upgrade setuptools"
      ],
      "metadata": {
        "colab": {
          "base_uri": "https://localhost:8080/"
        },
        "id": "IicCOMROZI8x",
        "outputId": "7919ec48-d725-4244-b5d8-3406f6b133f3"
      },
      "execution_count": null,
      "outputs": [
        {
          "output_type": "stream",
          "name": "stdout",
          "text": [
            "Requirement already satisfied: setuptools in /usr/local/lib/python3.10/dist-packages (68.2.2)\n"
          ]
        }
      ]
    },
    {
      "cell_type": "code",
      "source": [
        "pip install --upgrade wheel"
      ],
      "metadata": {
        "colab": {
          "base_uri": "https://localhost:8080/"
        },
        "id": "iJ9TWsdyaZYO",
        "outputId": "7a9747fd-002b-4e47-87c4-dc3bfe7a529f"
      },
      "execution_count": null,
      "outputs": [
        {
          "output_type": "stream",
          "name": "stdout",
          "text": [
            "Requirement already satisfied: wheel in /usr/local/lib/python3.10/dist-packages (0.41.2)\n",
            "Collecting wheel\n",
            "  Downloading wheel-0.41.3-py3-none-any.whl (65 kB)\n",
            "\u001b[2K     \u001b[90m━━━━━━━━━━━━━━━━━━━━━━━━━━━━━━━━━━━━━━━━\u001b[0m \u001b[32m65.8/65.8 kB\u001b[0m \u001b[31m2.0 MB/s\u001b[0m eta \u001b[36m0:00:00\u001b[0m\n",
            "\u001b[?25hInstalling collected packages: wheel\n",
            "  Attempting uninstall: wheel\n",
            "    Found existing installation: wheel 0.41.2\n",
            "    Uninstalling wheel-0.41.2:\n",
            "      Successfully uninstalled wheel-0.41.2\n",
            "Successfully installed wheel-0.41.3\n"
          ]
        }
      ]
    },
    {
      "cell_type": "code",
      "source": [
        "pip install 'git+https://github.com/facebookresearch/pytorch3d.git@stable'"
      ],
      "metadata": {
        "id": "lXbU5O6GG-f1"
      },
      "execution_count": null,
      "outputs": []
    },
    {
      "cell_type": "markdown",
      "metadata": {
        "id": "XZPVPVVP_8fS"
      },
      "source": [
        "Loading ShapeNet using dataloader commands from PyTorch"
      ]
    },
    {
      "cell_type": "code",
      "execution_count": null,
      "metadata": {
        "colab": {
          "base_uri": "https://localhost:8080/"
        },
        "id": "GTIPLdsm-cIc",
        "outputId": "bb719ed9-1989-43e7-f6e0-65abdfee422e"
      },
      "outputs": [
        {
          "output_type": "stream",
          "name": "stdout",
          "text": [
            "Collecting git+https://github.com/facebookresearch/pytorch3d.git@stable\n",
            "  Cloning https://github.com/facebookresearch/pytorch3d.git (to revision stable) to /tmp/pip-req-build-ros19lcc\n",
            "  Running command git clone --filter=blob:none --quiet https://github.com/facebookresearch/pytorch3d.git /tmp/pip-req-build-ros19lcc\n",
            "  Running command git checkout -q 297020a4b1d7492190cb4a909cafbd2c81a12cb5\n",
            "  Resolved https://github.com/facebookresearch/pytorch3d.git to commit 297020a4b1d7492190cb4a909cafbd2c81a12cb5\n",
            "  Preparing metadata (setup.py) ... \u001b[?25l\u001b[?25hdone\n",
            "Collecting fvcore (from pytorch3d==0.7.4)\n",
            "  Using cached fvcore-0.1.5.post20221221-py3-none-any.whl\n",
            "Collecting iopath (from pytorch3d==0.7.4)\n",
            "  Using cached iopath-0.1.10-py3-none-any.whl\n",
            "Requirement already satisfied: numpy in /usr/local/lib/python3.10/dist-packages (from fvcore->pytorch3d==0.7.4) (1.23.5)\n",
            "Collecting yacs>=0.1.6 (from fvcore->pytorch3d==0.7.4)\n",
            "  Using cached yacs-0.1.8-py3-none-any.whl (14 kB)\n",
            "Requirement already satisfied: pyyaml>=5.1 in /usr/local/lib/python3.10/dist-packages (from fvcore->pytorch3d==0.7.4) (6.0.1)\n",
            "Requirement already satisfied: tqdm in /usr/local/lib/python3.10/dist-packages (from fvcore->pytorch3d==0.7.4) (4.66.1)\n",
            "Requirement already satisfied: termcolor>=1.1 in /usr/local/lib/python3.10/dist-packages (from fvcore->pytorch3d==0.7.4) (2.3.0)\n",
            "Requirement already satisfied: Pillow in /usr/local/lib/python3.10/dist-packages (from fvcore->pytorch3d==0.7.4) (9.4.0)\n",
            "Requirement already satisfied: tabulate in /usr/local/lib/python3.10/dist-packages (from fvcore->pytorch3d==0.7.4) (0.9.0)\n",
            "Requirement already satisfied: typing-extensions in /usr/local/lib/python3.10/dist-packages (from iopath->pytorch3d==0.7.4) (4.5.0)\n",
            "Collecting portalocker (from iopath->pytorch3d==0.7.4)\n",
            "  Using cached portalocker-2.8.2-py3-none-any.whl (17 kB)\n",
            "Building wheels for collected packages: pytorch3d\n",
            "  \u001b[1;31merror\u001b[0m: \u001b[1msubprocess-exited-with-error\u001b[0m\n",
            "  \n",
            "  \u001b[31m×\u001b[0m \u001b[32mpython setup.py bdist_wheel\u001b[0m did not run successfully.\n",
            "  \u001b[31m│\u001b[0m exit code: \u001b[1;36m1\u001b[0m\n",
            "  \u001b[31m╰─>\u001b[0m See above for output.\n",
            "  \n",
            "  \u001b[1;35mnote\u001b[0m: This error originates from a subprocess, and is likely not a problem with pip.\n",
            "  Building wheel for pytorch3d (setup.py) ... \u001b[?25lerror\n",
            "\u001b[31m  ERROR: Failed building wheel for pytorch3d\u001b[0m\u001b[31m\n",
            "\u001b[0m\u001b[?25h  Running setup.py clean for pytorch3d\n",
            "Failed to build pytorch3d\n",
            "\u001b[31mERROR: Could not build wheels for pytorch3d, which is required to install pyproject.toml-based projects\u001b[0m\u001b[31m\n",
            "\u001b[0m"
          ]
        }
      ],
      "source": [
        "import os\n",
        "import sys\n",
        "import torch\n",
        "need_pytorch3d=False\n",
        "try:\n",
        "    import pytorch3d\n",
        "except ModuleNotFoundError:\n",
        "    need_pytorch3d=True\n",
        "if need_pytorch3d:\n",
        "    if torch.__version__.startswith((\"1.13.\", \"2.0.\")) and sys.platform.startswith(\"linux\"):\n",
        "        # We try to install PyTorch3D via a released wheel.\n",
        "        pyt_version_str=torch.__version__.split(\"+\")[0].replace(\".\", \"\")\n",
        "        version_str=\"\".join([\n",
        "            f\"py3{sys.version_info.minor}_cu\",\n",
        "            torch.version.cuda.replace(\".\",\"\"),\n",
        "            f\"_pyt{pyt_version_str}\"\n",
        "        ])\n",
        "        !pip install fvcore iopath\n",
        "        !pip install --no-index --no-cache-dir pytorch3d -f https://dl.fbaipublicfiles.com/pytorch3d/packaging/wheels/{version_str}/download.html\n",
        "    else:\n",
        "        # We try to install PyTorch3D from source.\n",
        "        !pip install 'git+https://github.com/facebookresearch/pytorch3d.git@stable'"
      ]
    },
    {
      "cell_type": "code",
      "execution_count": null,
      "metadata": {
        "id": "11_nu6m1ANnr"
      },
      "outputs": [],
      "source": []
    },
    {
      "cell_type": "code",
      "execution_count": null,
      "metadata": {
        "colab": {
          "base_uri": "https://localhost:8080/",
          "height": 386
        },
        "id": "vbL0WtsK-cId",
        "outputId": "aa41090b-2a48-4169-9d12-2a2b4e7ecda9"
      },
      "outputs": [
        {
          "output_type": "error",
          "ename": "ModuleNotFoundError",
          "evalue": "ignored",
          "traceback": [
            "\u001b[0;31m---------------------------------------------------------------------------\u001b[0m",
            "\u001b[0;31mModuleNotFoundError\u001b[0m                       Traceback (most recent call last)",
            "\u001b[0;32m<ipython-input-14-dfbb6b2c2ebe>\u001b[0m in \u001b[0;36m<cell line: 4>\u001b[0;34m()\u001b[0m\n\u001b[1;32m      2\u001b[0m \u001b[0;32mimport\u001b[0m \u001b[0mtorch\u001b[0m\u001b[0;34m\u001b[0m\u001b[0;34m\u001b[0m\u001b[0m\n\u001b[1;32m      3\u001b[0m \u001b[0;34m\u001b[0m\u001b[0m\n\u001b[0;32m----> 4\u001b[0;31m from pytorch3d.datasets import (\n\u001b[0m\u001b[1;32m      5\u001b[0m     \u001b[0mR2N2\u001b[0m\u001b[0;34m,\u001b[0m\u001b[0;34m\u001b[0m\u001b[0;34m\u001b[0m\u001b[0m\n\u001b[1;32m      6\u001b[0m     \u001b[0mShapeNetCore\u001b[0m\u001b[0;34m,\u001b[0m\u001b[0;34m\u001b[0m\u001b[0;34m\u001b[0m\u001b[0m\n",
            "\u001b[0;31mModuleNotFoundError\u001b[0m: No module named 'pytorch3d'",
            "",
            "\u001b[0;31m---------------------------------------------------------------------------\u001b[0;32m\nNOTE: If your import is failing due to a missing package, you can\nmanually install dependencies using either !pip or !apt.\n\nTo view examples of installing some common dependencies, click the\n\"Open Examples\" button below.\n\u001b[0;31m---------------------------------------------------------------------------\u001b[0m\n"
          ],
          "errorDetails": {
            "actions": [
              {
                "action": "open_url",
                "actionText": "Open Examples",
                "url": "/notebooks/snippets/importing_libraries.ipynb"
              }
            ]
          }
        }
      ],
      "source": [
        "import numpy as np\n",
        "import torch\n",
        "\n",
        "from pytorch3d.datasets import (\n",
        "    R2N2,\n",
        "    ShapeNetCore,\n",
        "    collate_batched_meshes,\n",
        "    render_cubified_voxels,\n",
        ")\n",
        "from pytorch3d.renderer import (\n",
        "    OpenGLPerspectiveCameras,\n",
        "    PointLights,\n",
        "    RasterizationSettings,\n",
        "    TexturesVertex,\n",
        "    look_at_view_transform,\n",
        ")\n",
        "\n",
        "from pytorch3d.structures import Meshes\n",
        "from torch.utils.data import DataLoader\n",
        "\n",
        "# add path for demo utils functions\n",
        "import sys\n",
        "import os\n",
        "sys.path.append(os.path.abspath(''))"
      ]
    },
    {
      "cell_type": "code",
      "execution_count": null,
      "metadata": {
        "id": "46xd3U6z-cIe",
        "colab": {
          "base_uri": "https://localhost:8080/"
        },
        "outputId": "7f89b0c1-e0c9-47ff-d7ee-17afbe329fb3"
      },
      "outputs": [
        {
          "output_type": "stream",
          "name": "stdout",
          "text": [
            "--2023-10-30 07:18:46--  https://raw.githubusercontent.com/facebookresearch/pytorch3d/main/docs/tutorials/utils/plot_image_grid.py\n",
            "Resolving raw.githubusercontent.com (raw.githubusercontent.com)... 185.199.108.133, 185.199.109.133, 185.199.110.133, ...\n",
            "Connecting to raw.githubusercontent.com (raw.githubusercontent.com)|185.199.108.133|:443... connected.\n",
            "HTTP request sent, awaiting response... 200 OK\n",
            "Length: 1608 (1.6K) [text/plain]\n",
            "Saving to: ‘plot_image_grid.py’\n",
            "\n",
            "plot_image_grid.py  100%[===================>]   1.57K  --.-KB/s    in 0s      \n",
            "\n",
            "2023-10-30 07:18:46 (23.8 MB/s) - ‘plot_image_grid.py’ saved [1608/1608]\n",
            "\n"
          ]
        }
      ],
      "source": [
        "!wget https://raw.githubusercontent.com/facebookresearch/pytorch3d/main/docs/tutorials/utils/plot_image_grid.py\n",
        "from plot_image_grid import image_grid"
      ]
    },
    {
      "cell_type": "code",
      "execution_count": null,
      "metadata": {
        "id": "0VtMVd-z-cIh"
      },
      "outputs": [],
      "source": [
        "# Setup\n",
        "if torch.cuda.is_available():\n",
        "    device = torch.device(\"cuda:0\")\n",
        "    torch.cuda.set_device(device)\n",
        "else:\n",
        "    device = torch.device(\"cpu\")\n",
        "\n",
        "SHAPENET_PATH = \"\"\n",
        "shapenet_dataset = ShapeNetCore(SHAPENET_PATH)"
      ]
    },
    {
      "cell_type": "code",
      "source": [],
      "metadata": {
        "id": "qfALkA7wfDOU"
      },
      "execution_count": null,
      "outputs": []
    },
    {
      "cell_type": "markdown",
      "metadata": {
        "id": "kP1k6Kk9F7YK"
      },
      "source": [
        "#### UTIL FUNCTIONS:\n",
        "\n"
      ]
    },
    {
      "cell_type": "code",
      "execution_count": null,
      "metadata": {
        "id": "8n-5DYrXF7F0"
      },
      "outputs": [],
      "source": [
        "\n",
        "def recursive_detach(t):\n",
        "    if isinstance(t, torch.Tensor):\n",
        "        return t.detach()\n",
        "    elif isinstance(t, list):\n",
        "        return [recursive_detach(x) for x in t]\n",
        "    elif isinstance(t, dict):\n",
        "        return {k: recursive_detach(v) for k, v in t.items()}\n",
        "    else:\n",
        "        return t\n",
        "\n",
        "\n",
        "def batch_mm(matrix, batch):\n",
        "    \"\"\"\n",
        "    https://github.com/pytorch/pytorch/issues/14489\n",
        "    \"\"\"\n",
        "    return torch.stack([matrix.mm(b) for b in batch], dim=0)\n",
        "\n",
        "def dot(x, y, sparse=False):\n",
        "    \"\"\"Wrapper for torch.matmul (sparse vs dense).\"\"\"\n",
        "    if sparse:\n",
        "        return batch_mm(x, y)\n",
        "    else:\n",
        "        return torch.matmul(x, y)\n",
        "\n"
      ]
    },
    {
      "cell_type": "markdown",
      "metadata": {
        "id": "P30SzG6Y9idL"
      },
      "source": [
        "### **Backbone** for the input image:\n"
      ]
    },
    {
      "cell_type": "code",
      "execution_count": null,
      "metadata": {
        "id": "4szVTCCsmsLK"
      },
      "outputs": [],
      "source": [
        "class VGG16_encode(nn.Module): # THIS IS FOR THE 2D CONVOLUTIONS HAPPENING\n",
        "  def __init__(self,n_classes_input = 3):\n",
        "    super(VGG16_encode, self).__init__()\n",
        "\n",
        "    self.conv0_1 = nn.Conv2d(n_classes_input, 16, 3, stride = 1, padding = 1)\n",
        "    self.conv0_2 = nn.Conv2d(16, 16, 3, stride = 1, padding = 1) # changing input classes\n",
        "\n",
        "    self.conv1_1 = nn.Conv2d(16, 32, 3, stride = 2, padding = 1) # 224 -> 112\n",
        "    self.conv1_2 = nn.Conv2d(32, 32, 3, stride = 1, padding = 1)\n",
        "    self.conv1_3 = nn.Conv2d(32, 32, 3, stride = 1, padding = 1)\n",
        "\n",
        "    self.conv2_1 = nn.Conv2d(32, 64, 3, stride = 2, padding = 1) # 112 -> 56\n",
        "    self.conv2_2 = nn.Conv2d(64, 64, 3, stride = 1, padding = 1)\n",
        "    self.conv2_3 = nn.Conv2d(64, 64, 3, stride = 1, padding = 1)\n",
        "\n",
        "    self.conv3_1 = nn.Conv2d(64, 128, 3, stride = 2, padding = 1) # 56 -> 28\n",
        "    self.conv3_2 = nn.Conv2d(128, 128, 3, stride = 1, padding = 1)\n",
        "    self.conv3_3 = nn.Conv2d(128, 128, 3, stride = 1, padding = 1)\n",
        "\n",
        "    self.conv4_1 = nn.Conv2d(128, 256, 5, stride = 2, padding = 2) # 28 -> 14\n",
        "    self.conv4_2 = nn.Conv2d(256, 256, 3, stride = 1, padding = 1)\n",
        "    self.conv4_3 = nn.Conv2d(256, 256, 3, stride = 1, padding = 1)\n",
        "\n",
        "    self.conv5_1 = nn.Conv2d(256, 512, 5, stride = 2, padding = 2) # 14 -> 7\n",
        "    self.conv5_2 = nn.Conv2d(512, 512, 3, stride = 1, padding = 1)\n",
        "    self.conv5_3 = nn.Conv2d(512, 512, 3, stride = 1, padding = 1)\n",
        "    self.conv5_4 = nn.Conv2d(512, 512, 3, stride = 1, padding = 1)\n",
        "\n",
        "  def _initialize_weights(self):\n",
        "        for m in self.modules():\n",
        "            if isinstance(m, nn.Conv2d):\n",
        "                nn.init.kaiming_normal_(m.weight, mode='fan_out', nonlinearity='relu')\n",
        "                if m.bias is not None:\n",
        "                    nn.init.constant_(m.bias, 0)\n",
        "            elif isinstance(m, nn.BatchNorm2d):\n",
        "                nn.init.constant_(m.weight, 1)\n",
        "                nn.init.constant_(m.bias, 0)\n",
        "            elif isinstance(m, nn.Linear):\n",
        "                nn.init.normal_(m.weight, 0, 0.01)\n",
        "                nn.init.constant_(m.bias, 0)\n",
        "\n",
        "\n",
        "  def forward_prop(self, img):\n",
        "    # ACTIVATION ON EACH LAYER BECAUSE PyTorch HAS DIFFERENT Conv2D ARGUMENTS\n",
        "    img = fun.relu(self.conv0_1(img))\n",
        "    img = fun.relu(self.conv0_2(img))\n",
        "\n",
        "    img = fun.relu(self.conv1_1(img))\n",
        "    img = fun.relu(self.conv1_2(img))\n",
        "    img = fun.relu(self.conv1_3(img))\n",
        "\n",
        "    img = fun.relu(self.conv2_1(img))\n",
        "    img = fun.relu(self.conv2_2(img))\n",
        "    img = fun.relu(self.conv2_3(img))\n",
        "    img2 = torch.squeeze(img)\n",
        "\n",
        "    img = fun.relu(self.conv3_1(img))\n",
        "    img = fun.relu(self.conv3_2(img))\n",
        "    img = fun.relu(self.conv3_3(img))\n",
        "    img3 = torch.squeeze(img)\n",
        "\n",
        "    img = fun.relu(self.conv4_1(img))\n",
        "    img = fun.relu(self.conv4_2(img))\n",
        "    img = fun.relu(self.conv4_3(img))\n",
        "    img4 = torch.squeeze(img)\n",
        "\n",
        "    img = fun.relu(self.conv5_1(img))\n",
        "    img = fun.relu(self.conv5_2(img))\n",
        "    img = fun.relu(self.conv5_3(img))\n",
        "    img5 = torch.squeeze(img)\n",
        "\n",
        "    return [img2,img3,img4,img5]\n",
        "\n",
        "class VGG16_decode(nn.Module):\n",
        "  def __init__(self, input_dim = 512, image_channel = 3):\n",
        "    super(VGG16_decode, self).__init__()\n",
        "    # LAYERS FOR DECODING INFO FOR THE POOLING LAYERS IN BETWEEN (for 3D (GCNs))\n",
        "    self.conv_1 = nn.ConvTranspose2d(input_dim, 256, kernel_size = 2, stride = 2, padding = 0) # 7 -> 14\n",
        "    self.conv_2 = nn.ConvTranspose2d(512, 128, kernel_size = 4, stride = 2, padding = 1) # 14 -> 28\n",
        "    self.conv_3 = nn.ConvTranspose2d(256, 64, kernel_size = 4, stride = 2, padding = 1)  # 28 -> 56\n",
        "    self.conv_4 = nn.ConvTranspose2d(128, 32, kernel_size = 6, stride = 2, padding = 2)   # 56 -> 112\n",
        "    self.conv_5 = nn.ConvTranspose2d(32, image_channel, kernel_size = 6, stride = 2, padding = 2) # 112 -> 224\n",
        "\n",
        "  def forward_prop(self,img_feats): # img_feats stands for image_features\n",
        "    x = fun.relu(self.conv_1(img_feats[-1].unsqueeze(0)))\n",
        "    x = torch.cat((x, img_feats[-2].unsqueeze(0)), dim = 1)\n",
        "    x = fun.relu(self.conv_2(x))\n",
        "    x = torch.cat((x, img_feats[-3].unsqueeze(0)), dim = 1)\n",
        "    x = fun.relu(self.conv_3(x))\n",
        "    x = torch.cat((x, img_feats[-4].unsqueeze(0)), dim = 1)\n",
        "    x = fun.relu(self.conv_4(x))\n",
        "    x = fun.relu(self.conv_5(x))\n",
        "\n",
        "    return torch.sigmoid(x)"
      ]
    },
    {
      "cell_type": "markdown",
      "metadata": {
        "id": "VuSVB4Hh9s16"
      },
      "source": [
        "**GCN section**\n",
        "\n",
        " ![Screenshot from 2023-10-28 11-58-54.png](data:image/png;base64,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)\n",
        "\n",
        "![Screenshot from 2023-10-28 12-01-18.png](data:image/png;base64,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)\n",
        "\n"
      ]
    },
    {
      "cell_type": "markdown",
      "metadata": {
        "id": "ccTOMw5qGQao"
      },
      "source": [
        "#### 3D mesh is a collection of vertices, edges and faces\n",
        "#### Can be written into a Graph M=f(V,E,F)"
      ]
    },
    {
      "cell_type": "code",
      "execution_count": null,
      "metadata": {
        "id": "CYJKPcVoLM2A"
      },
      "outputs": [],
      "source": [
        "from torch.nn.parameter import Parameter\n",
        "from torch.nn.modules.module import Module\n",
        "\n",
        "from scipy.sparse import coo_matrix"
      ]
    },
    {
      "cell_type": "code",
      "execution_count": null,
      "metadata": {
        "id": "oqYse7jZD6VO"
      },
      "outputs": [],
      "source": [
        "class GConv(nn.Module):\n",
        "    # Simple GCN layer\n",
        "    # Similar to https://arxiv.org/abs/1609.02907\n",
        "\n",
        "    def __init__(self, in_features, out_features, adj_mat, bias=True):\n",
        "        super(GConv, self).__init__()\n",
        "        self.in_features = in_features\n",
        "        self.out_features = out_features\n",
        "\n",
        "        self.adj_mat = nn.Parameter(adj_mat, requires_grad=False)\n",
        "        self.weight = nn.Parameter(torch.zeros((in_features, out_features), dtype=torch.float))\n",
        "        # Following https://github.com/Tong-ZHAO/Pixel2Mesh-Pytorch/blob/a0ae88c4a42eef6f8f253417b97df978db842708/model/gcn_layers.py#L45\n",
        "        # Amd https://github.com/noahcao/Pixel2Mesh/blob/master/models/layers/gconv.py\n",
        "        # different from the original implementation of P2M\n",
        "        self.loop_weight = nn.Parameter(torch.zeros((in_features, out_features), dtype=torch.float))\n",
        "        if bias:\n",
        "            self.bias = nn.Parameter(torch.zeros((out_features,), dtype=torch.float))\n",
        "        else:\n",
        "            self.register_parameter('bias', None)\n",
        "        self.reset_parameters()\n",
        "\n",
        "    def reset_parameters(self):\n",
        "        nn.init.xavier_uniform_(self.weight.data)\n",
        "        nn.init.xavier_uniform_(self.loop_weight.data)\n",
        "\n",
        "    def forward(self, inputs):\n",
        "        support = torch.matmul(inputs, self.weight)\n",
        "        support_loop = torch.matmul(inputs, self.loop_weight)\n",
        "        output = dot(self.adj_mat, support, True) + support_loop\n",
        "        if self.bias is not None:\n",
        "            ret = output + self.bias\n",
        "        else:\n",
        "            ret = output\n",
        "        return ret\n",
        "\n",
        "    def __repr__(self):\n",
        "        return self.__class__.__name__ + ' (' \\\n",
        "               + str(self.in_features) + ' -> ' \\\n",
        "               + str(self.out_features) + ')'\n",
        "\n",
        "\n",
        "class GUnpooling(nn.Module):\n",
        "\n",
        "    # Graph Unpooling layer, aims to add additional vertices to the graph.\n",
        "    # The middle point of each edges are added, and its feature is simply\n",
        "    # the average of the two edge vertices.\n",
        "    # Three middle points are connected in each triangle.\n",
        "\n",
        "\n",
        "    def __init__(self, unpool_idx):\n",
        "        super(GUnpooling, self).__init__()\n",
        "        self.unpool_idx = unpool_idx\n",
        "        # save dim info\n",
        "        self.in_num = torch.max(unpool_idx).item()\n",
        "        self.out_num = self.in_num + len(unpool_idx)\n",
        "\n",
        "    def forward(self, inputs):\n",
        "        new_features = inputs[:, self.unpool_idx].clone()\n",
        "        new_vertices = 0.5 * new_features.sum(2)\n",
        "        output = torch.cat([inputs, new_vertices], 1)\n",
        "\n",
        "        return output\n",
        "\n",
        "    def __repr__(self):\n",
        "        return self.__class__.__name__ + ' (' \\\n",
        "               + str(self.in_num) + ' -> ' \\\n",
        "               + str(self.out_num) + ')'\n",
        "\n",
        "from torch.nn import Threshold\n",
        "\n",
        "\n",
        "class GProjection(nn.Module):\n",
        "\n",
        "    # Graph Projection layer, which pool 2D features to mesh\n",
        "    # The layer projects a vertex of the mesh to the 2D image and use\n",
        "    # bi-linear interpolation to get the corresponding feature.\n",
        "    # bi-linear here means the average of two neighbours\n",
        "\n",
        "    def __init__(self, mesh_pos, camera_f, camera_c, bound=0, tensorflow_compatible=False):\n",
        "        super(GProjection, self).__init__()\n",
        "        self.mesh_pos, self.camera_f, self.camera_c = mesh_pos, camera_f, camera_c\n",
        "        self.threshold = None\n",
        "        self.bound = 0\n",
        "        self.tensorflow_compatible = tensorflow_compatible\n",
        "        if self.bound != 0:\n",
        "            self.threshold = Threshold(bound, bound)\n",
        "\n",
        "    def bound_val(self, x):\n",
        "        \"\"\"\n",
        "        given x, return min(threshold, x), in case threshold is not None\n",
        "        \"\"\"\n",
        "        if self.bound < 0:\n",
        "            return -self.threshold(-x)\n",
        "        elif self.bound > 0:\n",
        "            return self.threshold(x)\n",
        "        return x\n",
        "\n",
        "    @staticmethod\n",
        "    def image_feature_shape(img):\n",
        "        return np.array([img.size(-1), img.size(-2)])\n",
        "\n",
        "    def project_tensorflow(self, x, y, img_size, img_feat):\n",
        "        x = torch.clamp(x, min=0, max=img_size[1] - 1)\n",
        "        y = torch.clamp(y, min=0, max=img_size[0] - 1)\n",
        "\n",
        "        # it's tedious and contains bugs...\n",
        "        # when x1 = x2, the area is 0, therefore it won't be processed\n",
        "        # keep it here to align with tensorflow version   ## COMMENTS BY ORIGINAL AUTHOR\n",
        "        x1, x2 = torch.floor(x).long(), torch.ceil(x).long()\n",
        "        y1, y2 = torch.floor(y).long(), torch.ceil(y).long()\n",
        "\n",
        "        Q11 = img_feat[:, x1, y1].clone()\n",
        "        Q12 = img_feat[:, x1, y2].clone()\n",
        "        Q21 = img_feat[:, x2, y1].clone()\n",
        "        Q22 = img_feat[:, x2, y2].clone()\n",
        "\n",
        "        weights = torch.mul(x2.float() - x, y2.float() - y)\n",
        "        Q11 = torch.mul(weights.unsqueeze(-1), torch.transpose(Q11, 0, 1))\n",
        "\n",
        "        weights = torch.mul(x2.float() - x, y - y1.float())\n",
        "        Q12 = torch.mul(weights.unsqueeze(-1), torch.transpose(Q12, 0, 1))\n",
        "\n",
        "        weights = torch.mul(x - x1.float(), y2.float() - y)\n",
        "        Q21 = torch.mul(weights.unsqueeze(-1), torch.transpose(Q21, 0, 1))\n",
        "\n",
        "        weights = torch.mul(x - x1.float(), y - y1.float())\n",
        "        Q22 = torch.mul(weights.unsqueeze(-1), torch.transpose(Q22, 0, 1))\n",
        "\n",
        "        output = Q11 + Q21 + Q12 + Q22\n",
        "        return output\n",
        "\n",
        "    def forward(self, resolution, img_features, inputs):\n",
        "        half_resolution = (resolution - 1) / 2\n",
        "        camera_c_offset = np.array(self.camera_c) - half_resolution\n",
        "        # map to [-1, 1]\n",
        "        # not sure why they render to negative x\n",
        "        positions = inputs + torch.tensor(self.mesh_pos, device=inputs.device, dtype=torch.float)\n",
        "        w = -self.camera_f[0] * (positions[:, :, 0] / self.bound_val(positions[:, :, 2])) + camera_c_offset[0]\n",
        "        h = self.camera_f[1] * (positions[:, :, 1] / self.bound_val(positions[:, :, 2])) + camera_c_offset[1]\n",
        "\n",
        "        if self.tensorflow_compatible:\n",
        "            # to align with tensorflow\n",
        "            # this is incorrect, I believe\n",
        "            w += half_resolution[0]\n",
        "            h += half_resolution[1]\n",
        "\n",
        "        else:\n",
        "            # directly do clamping\n",
        "            w /= half_resolution[0]\n",
        "            h /= half_resolution[1]\n",
        "\n",
        "            # clamp to [-1, 1]\n",
        "            w = torch.clamp(w, min=-1, max=1)\n",
        "            h = torch.clamp(h, min=-1, max=1)\n",
        "\n",
        "        feats = [inputs]\n",
        "        for img_feature in img_features:\n",
        "            feats.append(self.project(resolution, img_feature, torch.stack([w, h], dim=-1)))\n",
        "\n",
        "        output = torch.cat(feats, 2)\n",
        "\n",
        "        return output\n",
        "\n",
        "    def project(self, img_shape, img_feat, sample_points):\n",
        "        \"\"\"\n",
        "        :param img_shape: raw image shape\n",
        "        :param img_feat: [batch_size x channel x h x w]\n",
        "        :param sample_points: [batch_size x num_points x 2], in range [-1, 1]\n",
        "        :return: [batch_size x num_points x feat_dim]\n",
        "        \"\"\"\n",
        "        if self.tensorflow_compatible:\n",
        "            feature_shape = self.image_feature_shape(img_feat)\n",
        "            points_w = sample_points[:, :, 0] / (img_shape[0] / feature_shape[0])\n",
        "            points_h = sample_points[:, :, 1] / (img_shape[1] / feature_shape[1])\n",
        "            output = torch.stack([self.project_tensorflow(points_h[i], points_w[i],\n",
        "                                                          feature_shape, img_feat[i]) for i in range(img_feat.size(0))], 0)\n",
        "        else:\n",
        "            output = fun.grid_sample(img_feat, sample_points.unsqueeze(1))\n",
        "            output = torch.transpose(output.squeeze(2), 1, 2)\n",
        "\n",
        "        return output\n",
        "class GResBlock(nn.Module):\n",
        "\n",
        "    def __init__(self, in_dim, hidden_dim, adj_mat, activation=None):\n",
        "        super(GResBlock, self).__init__()\n",
        "\n",
        "        self.conv1 = GConv(in_features=in_dim, out_features=hidden_dim, adj_mat=adj_mat)\n",
        "        self.conv2 = GConv(in_features=hidden_dim, out_features=in_dim, adj_mat=adj_mat)\n",
        "        self.activation = fun.relu if activation else None\n",
        "\n",
        "    def forward(self, inputs):\n",
        "        x = self.conv1(inputs)\n",
        "        if self.activation:\n",
        "            x = self.activation(x)\n",
        "        x = self.conv2(x)\n",
        "        if self.activation:\n",
        "            x = self.activation(x)\n",
        "\n",
        "        return (inputs + x) * 0.5\n",
        "\n",
        "\n",
        "class GBottleneck(nn.Module):\n",
        "\n",
        "    def __init__(self, block_num, in_dim, hidden_dim, out_dim, adj_mat, activation=None):\n",
        "        super(GBottleneck, self).__init__()\n",
        "\n",
        "        resblock_layers = [GResBlock(in_dim=hidden_dim, hidden_dim=hidden_dim, adj_mat=adj_mat, activation=activation)\n",
        "                           for _ in range(block_num)]\n",
        "        self.blocks = nn.Sequential(*resblock_layers)\n",
        "        self.conv1 = GConv(in_features=in_dim, out_features=hidden_dim, adj_mat=adj_mat)\n",
        "        self.conv2 = GConv(in_features=hidden_dim, out_features=out_dim, adj_mat=adj_mat)\n",
        "        self.activation = fun.relu if activation else None\n",
        "\n",
        "    def forward(self, inputs):\n",
        "        x = self.conv1(inputs)\n",
        "        if self.activation:\n",
        "            x = self.activation(x)\n",
        "        x_hidden = self.blocks(x)\n",
        "        x_out = self.conv2(x_hidden)\n",
        "\n",
        "        return x_out, x_hidden"
      ]
    },
    {
      "cell_type": "code",
      "execution_count": null,
      "metadata": {
        "id": "VDwabXZWHTa2"
      },
      "outputs": [],
      "source": []
    },
    {
      "cell_type": "markdown",
      "metadata": {
        "id": "U0OH8HAyIQPV"
      },
      "source": [
        "# BACKPROP\n",
        "MOSTLY NO USE RN"
      ]
    },
    {
      "cell_type": "markdown",
      "metadata": {
        "id": "vdKGE9b-Ik7z"
      },
      "source": [
        "# LOSS CALCULATION (CHAMFER, LAPLACIAN, etc)"
      ]
    },
    {
      "cell_type": "code",
      "execution_count": null,
      "metadata": {
        "id": "lzV8QUMvCt3D"
      },
      "outputs": [],
      "source": [
        "from torch.autograd import Function\n",
        "import torch.nn.functional as F"
      ]
    },
    {
      "cell_type": "code",
      "execution_count": null,
      "metadata": {
        "colab": {
          "base_uri": "https://localhost:8080/",
          "height": 386
        },
        "id": "syJJE1upKkUP",
        "outputId": "d116feff-e56f-4b9b-ca94-d1557dff43b6"
      },
      "outputs": [
        {
          "ename": "ModuleNotFoundError",
          "evalue": "ignored",
          "output_type": "error",
          "traceback": [
            "\u001b[0;31m---------------------------------------------------------------------------\u001b[0m",
            "\u001b[0;31mModuleNotFoundError\u001b[0m                       Traceback (most recent call last)",
            "\u001b[0;32m<ipython-input-5-37cb7fb19516>\u001b[0m in \u001b[0;36m<cell line: 1>\u001b[0;34m()\u001b[0m\n\u001b[0;32m----> 1\u001b[0;31m \u001b[0;32mimport\u001b[0m \u001b[0mchamfer\u001b[0m \u001b[0;31m#This module is going to be used for Chamfer Loss calculations\u001b[0m\u001b[0;34m\u001b[0m\u001b[0;34m\u001b[0m\u001b[0m\n\u001b[0m\u001b[1;32m      2\u001b[0m \u001b[0;34m\u001b[0m\u001b[0m\n\u001b[1;32m      3\u001b[0m \u001b[0;31m#This is used for Cross Entropy Loss, giving us loss between different labels associated with our\u001b[0m\u001b[0;34m\u001b[0m\u001b[0;34m\u001b[0m\u001b[0m\n\u001b[1;32m      4\u001b[0m \u001b[0;31m#generated model and ground truth.\u001b[0m\u001b[0;34m\u001b[0m\u001b[0;34m\u001b[0m\u001b[0m\n\u001b[1;32m      5\u001b[0m \u001b[0;34m\u001b[0m\u001b[0m\n",
            "\u001b[0;31mModuleNotFoundError\u001b[0m: No module named 'chamfer'",
            "",
            "\u001b[0;31m---------------------------------------------------------------------------\u001b[0;32m\nNOTE: If your import is failing due to a missing package, you can\nmanually install dependencies using either !pip or !apt.\n\nTo view examples of installing some common dependencies, click the\n\"Open Examples\" button below.\n\u001b[0;31m---------------------------------------------------------------------------\u001b[0m\n"
          ]
        }
      ],
      "source": [
        "# import chamfer #This module is going to be used for Chamfer Loss calculations\n",
        "\n",
        "#This is used for Cross Entropy Loss, giving us loss between different labels associated with our\n",
        "#generated model and ground truth.\n",
        "\n",
        "class CrossEntropyLoss(nn.Module):\n",
        "    def __init__(self):\n",
        "        super().__init__()\n",
        "        self.cross_entropy = nn.CrossEntropyLoss()\n",
        "\n",
        "    def forward(self, outputs, targets):\n",
        "        labels = targets[\"labels\"]\n",
        "        loss = self.cross_entropy(outputs, labels)\n",
        "        _, predicted = torch.max(outputs.data, 1)\n",
        "        total = labels.size(0)\n",
        "        correct = (predicted == labels).sum().item()\n",
        "        return loss, {\"loss\": loss, \"acc\": correct / total}\n",
        "\n",
        "#This class will have function required to calculate Chamfer Distance and Chamfer Loss\n",
        "\n",
        "# class ChamferFunction(Function):\n",
        "#     staticmethod\n",
        "#     def forward(ctx, xyz1, xyz2):\n",
        "#         batchsize, n, _ = xyz1.size()\n",
        "#         _, m, _ = xyz2.size()\n",
        "\n",
        "#         dist1 = torch.zeros(batchsize, n)\n",
        "#         dist2 = torch.zeros(batchsize, m)\n",
        "\n",
        "#         idx1 = torch.zeros(batchsize, n).type(torch.IntTensor)\n",
        "#         idx2 = torch.zeros(batchsize, m).type(torch.IntTensor)\n",
        "\n",
        "#         # Following commented variables can be given cuda when required.\n",
        "\n",
        "#         # dist1 = dist1\n",
        "#         # dist2 = dist2\n",
        "#         # idx1 = idx1\n",
        "#         # idx2 = idx2\n",
        "\n",
        "#         chamfer.forward(xyz1, xyz2, dist1, dist2, idx1, idx2)\n",
        "#         ctx.save_for_backward(xyz1, xyz2, idx1, idx2)\n",
        "#         return dist1, dist2, idx1, idx2\n",
        "\n",
        "#     staticmethod\n",
        "#     def backward(ctx, graddist1, graddist2, _idx1, _idx2):\n",
        "#         xyz1, xyz2, idx1, idx2 = ctx.saved_tensors\n",
        "#         graddist1 = graddist1.contiguous()\n",
        "#         graddist2 = graddist2.contiguous()\n",
        "\n",
        "#         gradxyz1 = torch.zeros(xyz1.size())\n",
        "#         gradxyz2 = torch.zeros(xyz2.size())\n",
        "\n",
        "#         # Following commented variables can be givpien cuda when required.\n",
        "\n",
        "#         # gradxyz1 = gradxyz1\n",
        "#         # gradxyz2 = gradxyz2\n",
        "#         chamfer.backward(xyz1, xyz2, gradxyz1, gradxyz2, graddist1, graddist2, idx1, idx2)\n",
        "#         return gradxyz1, gradxyz2\n",
        "\n",
        "\n",
        "# class ChamferDist(nn.Module):\n",
        "#     def __init__(self):\n",
        "#         super(ChamferDist, self).__init__()\n",
        "\n",
        "#     def forward(self, input1, input2):\n",
        "#         return ChamferFunction.apply(input1, input2)\n",
        "\n",
        "import torch.nn.functional as F\n",
        "\n",
        "# from models.layers.chamfer_wrapper import ChamferDist\n",
        "\n",
        "\n",
        "class P2MLoss(nn.Module):\n",
        "    def __init__(self, options, ellipsoid):\n",
        "        super().__init__()\n",
        "        self.options = options\n",
        "        self.l1_loss = nn.L1Loss(reduction='mean')\n",
        "        self.l2_loss = nn.MSELoss(reduction='mean')\n",
        "        # self.chamfer_dist = ChamferDist()\n",
        "        self.laplace_idx = nn.ParameterList([\n",
        "            nn.Parameter(idx, requires_grad=False) for idx in ellipsoid.laplace_idx])\n",
        "        self.edges = nn.ParameterList([\n",
        "            nn.Parameter(edges, requires_grad=False) for edges in ellipsoid.edges])\n",
        "\n",
        "    def edge_regularization(self, pred, edges):\n",
        "        \"\"\"\n",
        "        :param pred: batch_size * num_points * 3\n",
        "        :param edges: num_edges * 2\n",
        "        :return:\n",
        "        \"\"\"\n",
        "        return self.l2_loss(pred[:, edges[:, 0]], pred[:, edges[:, 1]]) * pred.size(-1)\n",
        "\n",
        "    @staticmethod\n",
        "    def laplace_coord(inputs, lap_idx):\n",
        "        \"\"\"\n",
        "        :param inputs: nodes Tensor, size (n_pts, n_features = 3)\n",
        "        :param lap_idx: laplace index matrix Tensor, size (n_pts, 10)\n",
        "        for each vertex, the laplace vector shows: [neighbor_index * 8, self_index, neighbor_count]\n",
        "\n",
        "        :returns\n",
        "        The laplacian coordinates of input with respect to edges as in lap_idx\n",
        "        \"\"\"\n",
        "\n",
        "        indices = lap_idx[:, :-2]\n",
        "        invalid_mask = indices < 0\n",
        "        all_valid_indices = indices.clone()\n",
        "        all_valid_indices[invalid_mask] = 0  # do this to avoid negative indices\n",
        "\n",
        "        vertices = inputs[:, all_valid_indices]\n",
        "        vertices[:, invalid_mask] = 0\n",
        "        neighbor_sum = torch.sum(vertices, 2)\n",
        "        neighbor_count = lap_idx[:, -1].float()\n",
        "        laplace = inputs - neighbor_sum / neighbor_count[None, :, None]\n",
        "\n",
        "        return laplace\n",
        "\n",
        "    def laplace_regularization(self, input1, input2, block_idx):\n",
        "        \"\"\"\n",
        "        :param input1: vertices tensor before deformation\n",
        "        :param input2: vertices after the deformation\n",
        "        :param block_idx: idx to select laplace index matrix tensor\n",
        "        :return:\n",
        "\n",
        "        if different than 1 then adds a move loss as in the original TF code\n",
        "        \"\"\"\n",
        "\n",
        "        lap1 = self.laplace_coord(input1, self.laplace_idx[block_idx])\n",
        "        lap2 = self.laplace_coord(input2, self.laplace_idx[block_idx])\n",
        "        laplace_loss = self.l2_loss(lap1, lap2) * lap1.size(-1)\n",
        "        move_loss = self.l2_loss(input1, input2) * input1.size(-1) if block_idx > 0 else 0\n",
        "        return laplace_loss, move_loss\n",
        "\n",
        "    def normal_loss(self, gt_normal, indices, pred_points, adj_list):\n",
        "        edges = F.normalize(pred_points[:, adj_list[:, 0]] - pred_points[:, adj_list[:, 1]], dim=2)\n",
        "        nearest_normals = torch.stack([t[i] for t, i in zip(gt_normal, indices.long())])\n",
        "        normals = F.normalize(nearest_normals[:, adj_list[:, 0]], dim=2)\n",
        "        cosine = torch.abs(torch.sum(edges * normals, 2))\n",
        "        return torch.mean(cosine)\n",
        "\n",
        "    def image_loss(self, gt_img, pred_img):\n",
        "        rect_loss = F.binary_cross_entropy(pred_img, gt_img)\n",
        "        return rect_loss\n",
        "\n",
        "    def forward(self, outputs, targets):\n",
        "        \"\"\"\n",
        "        :param outputs: outputs from P2MModel\n",
        "        :param targets: targets from input\n",
        "        :return: loss, loss_summary (dict)\n",
        "        \"\"\"\n",
        "\n",
        "        chamfer_loss, edge_loss, normal_loss, lap_loss, move_loss = 0., 0., 0., 0., 0.\n",
        "        lap_const = [0.2, 1., 1.]\n",
        "\n",
        "        gt_coord, gt_normal, gt_images = targets[\"points\"], targets[\"normals\"], targets[\"images\"]\n",
        "        pred_coord, pred_coord_before_deform = outputs[\"pred_coord\"], outputs[\"pred_coord_before_deform\"]\n",
        "        image_loss = 0.\n",
        "        if outputs[\"reconst\"] is not None and self.options.weights.reconst != 0:\n",
        "            image_loss = self.image_loss(gt_images, outputs[\"reconst\"])\n",
        "\n",
        "        for i in range(3):\n",
        "            dist1, dist2, idx1, idx2 = self.chamfer_dist(gt_coord, pred_coord[i])\n",
        "            chamfer_loss += self.options.weights.chamfer[i] * (torch.mean(dist1) +\n",
        "                                                               self.options.weights.chamfer_opposite * torch.mean(dist2))\n",
        "            normal_loss += self.normal_loss(gt_normal, idx2, pred_coord[i], self.edges[i])\n",
        "            edge_loss += self.edge_regularization(pred_coord[i], self.edges[i])\n",
        "            lap, move = self.laplace_regularization(pred_coord_before_deform[i],\n",
        "                                                                   pred_coord[i], i)\n",
        "            lap_loss += lap_const[i] * lap\n",
        "            move_loss += lap_const[i] * move\n",
        "\n",
        "        loss = chamfer_loss + image_loss * self.options.weights.reconst + \\\n",
        "               self.options.weights.laplace * lap_loss + \\\n",
        "               self.options.weights.move * move_loss + \\\n",
        "               self.options.weights.edge * edge_loss + \\\n",
        "               self.options.weights.normal * normal_loss\n",
        "\n",
        "        loss = loss * self.options.weights.constant\n",
        "\n",
        "        return loss, {\n",
        "            \"loss\": loss,\n",
        "            \"loss_chamfer\": chamfer_loss,\n",
        "            \"loss_edge\": edge_loss,\n",
        "            \"loss_laplace\": lap_loss,\n",
        "            \"loss_move\": move_loss,\n",
        "            \"loss_normal\": normal_loss,\n",
        "        }"
      ]
    },
    {
      "cell_type": "code",
      "execution_count": null,
      "metadata": {
        "id": "-i_HVWUM4uIK"
      },
      "outputs": [],
      "source": []
    },
    {
      "cell_type": "code",
      "execution_count": null,
      "metadata": {
        "colab": {
          "base_uri": "https://localhost:8080/"
        },
        "id": "kupOioae4uiM",
        "outputId": "00947f47-d194-4014-cb73-4a3623d38347"
      },
      "outputs": [
        {
          "name": "stdout",
          "output_type": "stream",
          "text": [
            "Collecting functions\n",
            "  Downloading functions-0.7.0.tar.gz (2.7 kB)\n",
            "  Preparing metadata (setup.py) ... \u001b[?25l\u001b[?25hdone\n",
            "Building wheels for collected packages: functions\n",
            "  Building wheel for functions (setup.py) ... \u001b[?25l\u001b[?25hdone\n",
            "  Created wheel for functions: filename=functions-0.7.0-py3-none-any.whl size=3037 sha256=a60296e117cea12aa58cc4724a3c29ec75d8aa552c3e8133837b68044ac10d3b\n",
            "  Stored in directory: /root/.cache/pip/wheels/92/90/bc/01eb2f163bcfa49c7ad5072fbe9d243038368b9001ec26a9da\n",
            "Successfully built functions\n",
            "Installing collected packages: functions\n",
            "Successfully installed functions-0.7.0\n"
          ]
        }
      ],
      "source": [
        "pip install functions\n"
      ]
    },
    {
      "cell_type": "code",
      "execution_count": null,
      "metadata": {
        "colab": {
          "base_uri": "https://localhost:8080/"
        },
        "id": "k7HNNaPc42Aq",
        "outputId": "94184342-705f-444b-98b7-2538a33383af"
      },
      "outputs": [
        {
          "name": "stdout",
          "output_type": "stream",
          "text": [
            "Collecting utils\n",
            "  Downloading utils-1.0.1-py2.py3-none-any.whl (21 kB)\n",
            "Installing collected packages: utils\n",
            "Successfully installed utils-1.0.1\n"
          ]
        }
      ],
      "source": [
        "pip install utils\n"
      ]
    },
    {
      "cell_type": "markdown",
      "metadata": {
        "id": "ief1DUxZIhex"
      },
      "source": [
        "# EVALUATION, TRAINING etc"
      ]
    },
    {
      "cell_type": "code",
      "execution_count": null,
      "metadata": {
        "colab": {
          "base_uri": "https://localhost:8080/",
          "height": 281
        },
        "id": "pBMvEIzYxJQ9",
        "outputId": "e5939a63-c38a-4c7e-d28f-3da228e5ddd4"
      },
      "outputs": [
        {
          "ename": "SyntaxError",
          "evalue": "ignored",
          "output_type": "error",
          "traceback": [
            "Traceback \u001b[0;36m(most recent call last)\u001b[0m:\n",
            "  File \u001b[1;32m\"/usr/local/lib/python3.10/dist-packages/IPython/core/interactiveshell.py\"\u001b[0m, line \u001b[1;32m3553\u001b[0m, in \u001b[1;35mrun_code\u001b[0m\n    exec(code_obj, self.user_global_ns, self.user_ns)\n",
            "\u001b[0;36m  File \u001b[0;32m\"<ipython-input-6-e45a6f755d38>\"\u001b[0;36m, line \u001b[0;32m1\u001b[0;36m, in \u001b[0;35m<cell line: 1>\u001b[0;36m\u001b[0m\n\u001b[0;31m    from functions.base import CheckpointRunner\u001b[0m\n",
            "\u001b[0;36m  File \u001b[0;32m\"/usr/local/lib/python3.10/dist-packages/functions.py\"\u001b[0;36m, line \u001b[0;32m68\u001b[0m\n\u001b[0;31m    nodes = tuple(map(lambda (k, v): process_node(inner, k, v),\u001b[0m\n\u001b[0m                             ^\u001b[0m\n\u001b[0;31mSyntaxError\u001b[0m\u001b[0;31m:\u001b[0m invalid syntax\n"
          ]
        }
      ],
      "source": [
        "from functions.base import CheckpointRunner\n",
        "from models.layers.chamfer_wrapper import ChamferDist\n",
        "from utils.vis.renderer import MeshRenderer\n",
        "from utils.mesh import Ellipsoid\n",
        "\n",
        "\n",
        "class Evaluator(CheckpointRunner):\n",
        "\n",
        "    def __init__(self, options, logger: Logger, writer, shared_model=None):\n",
        "        super().__init__(options, logger, writer, training=False, shared_model=shared_model)\n",
        "\n",
        "    def init_fn(self, shared_model=None, **kwargs):\n",
        "        if self.options.model.name == \"pixel2mesh\":\n",
        "            # Renderer for visualization\n",
        "          self.renderer = MeshRenderer(self.options.dataset.camera_f, self.options.dataset.camera_c, self.options.dataset.mesh_pos)\n",
        "            # Initializing distance module\n",
        "          self.chamfer = ChamferDist()\n",
        "            # create ellipsoid\n",
        "          self.ellipsoid = Ellipsoid(self.options.dataset.mesh_pos)\n",
        "            # use weighted mean evaluation metrics or not\n",
        "          self.weighted_mean = self.options.test.weighted_mean\n",
        "        else:\n",
        "          self.renderer = None\n",
        "        self.num_classes = self.options.dataset.num_classes\n",
        "\n",
        "        if shared_model is not None:\n",
        "          self.model = shared_model\n",
        "        else:\n",
        "          if self.options.model.name == \"pixel2mesh\":\n",
        "                # create model\n",
        "            self.model = P2MModel(self.options.model, self.ellipsoid, self.options.dataset.camera_f, self.options.dataset.camera_c, self.options.dataset.mesh_pos)\n",
        "          elif self.options.model.name == \"classifier\":\n",
        "            self.model = Classifier(self.options.model, self.options.dataset.num_classes)\n",
        "          else:\n",
        "            raise NotImplementedError(\"Your model is not found\")\n",
        "            self.model = torch.nn.DataParallel(self.model, device_ids=self.gpus).cuda()\n",
        "            # Evaluate step count, useful in summary\n",
        "        self.evaluate_step_count = 0\n",
        "        self.total_step_count = 0\n",
        "\n",
        "    def models_dict(self):\n",
        "      return {'model': self.model}\n",
        "\n",
        "    def evaluate_f1(self, dis_to_pred, dis_to_gt, pred_length, gt_length, thresh):\n",
        "      recall = np.sum(dis_to_gt < thresh) / gt_length\n",
        "      prec = np.sum(dis_to_pred < thresh) / pred_length\n",
        "      return 2 * prec * recall / (prec + recall + 1e-8)\n",
        "\n",
        "    def evaluate_chamfer_and_f1(self, pred_vertices, gt_points, labels):\n",
        "        # calculate accurate chamfer distance; ground truth points with different lengths;\n",
        "        # therefore cannot be batched\n",
        "      batch_size = pred_vertices.size(0)\n",
        "      pred_length = pred_vertices.size(1)\n",
        "      for i in range(batch_size):\n",
        "        gt_length = gt_points[i].size(0)\n",
        "        label = labels[i].cpu().item()\n",
        "        d1, d2, i1, i2 = self.chamfer(pred_vertices[i].unsqueeze(0), gt_points[i].unsqueeze(0))\n",
        "        d1, d2 = d1.cpu().numpy(), d2.cpu().numpy()  # convert to millimeter\n",
        "        self.chamfer_distance[label].update(np.mean(d1) + np.mean(d2))\n",
        "        self.f1_tau[label].update(self.evaluate_f1(d1, d2, pred_length, gt_length, 1E-4))\n",
        "        self.f1_2tau[label].update(self.evaluate_f1(d1, d2, pred_length, gt_length, 2E-4))\n",
        "\n",
        "    def evaluate_accuracy(self, output, target):\n",
        "      \"\"\"Computes the accuracy over the k top predictions for the specified values of k\"\"\"\n",
        "      top_k = [1, 5]\n",
        "      maxk = max(top_k)\n",
        "      batch_size = target.size(0)\n",
        "\n",
        "    _, pred = output.topk(maxk, 1, True, True)\n",
        "    pred = pred.t()\n",
        "    correct = pred.eq(target.view(1, -1).expand_as(pred))\n",
        "\n",
        "    for k in top_k:\n",
        "      correct_k = correct[:k].view(-1).float().sum(0, keepdim=True)\n",
        "      acc = correct_k.mul_(1.0 / batch_size)\n",
        "      if k == 1:\n",
        "        self.acc_1.update(acc)\n",
        "      elif k == 5:\n",
        "        self.acc_5.update(acc)\n",
        "\n",
        "    def evaluate_step(self, input_batch):\n",
        "      self.model.eval()\n",
        "\n",
        "        # Run inference\n",
        "      with torch.no_grad():\n",
        "            # Get ground truth\n",
        "        images = input_batch['images']\n",
        "\n",
        "        out = self.model(images)\n",
        "\n",
        "        if self.options.model.name == \"pixel2mesh\":\n",
        "          pred_vertices = out[\"pred_coord\"][-1]\n",
        "          gt_points = input_batch[\"points_orig\"]\n",
        "          if isinstance(gt_points, list):\n",
        "            gt_points = [pts.cuda() for pts in gt_points]\n",
        "            self.evaluate_chamfer_and_f1(pred_vertices, gt_points, input_batch[\"labels\"])\n",
        "          elif self.options.model.name == \"classifier\":\n",
        "            self.evaluate_accuracy(out, input_batch[\"labels\"])\n",
        "      return out\n",
        "\n",
        "    # noinspection PyAttributeOutsideInit\n",
        "    def evaluate(self):\n",
        "      self.logger.info(\"Running evaluations...\")\n",
        "\n",
        "        # clear evaluate_step_count, but keep total count uncleared\n",
        "      self.evaluate_step_count = 0\n",
        "\n",
        "      test_data_loader = DataLoader(self.dataset,\n",
        "                                      batch_size=self.options.test.batch_size * self.options.num_gpus,\n",
        "                                      num_workers=self.options.num_workers,\n",
        "                                      pin_memory=self.options.pin_memory,\n",
        "                                      shuffle=self.options.test.shuffle,\n",
        "                                      collate_fn=self.dataset_collate_fn)\n",
        "      if self.options.model.name == \"pixel2mesh\":\n",
        "            self.chamfer_distance = [AverageMeter() for _ in range(self.num_classes)]\n",
        "            self.f1_tau = [AverageMeter() for _ in range(self.num_classes)]\n",
        "            self.f1_2tau = [AverageMeter() for _ in range(self.num_classes)]\n",
        "      elif self.options.model.name == \"classifier\":\n",
        "            self.acc_1 = AverageMeter()\n",
        "            self.acc_5 = AverageMeter()\n",
        "      # Iterate over all batches in an epoch\n",
        "      for step, batch in enumerate(test_data_loader):\n",
        "            # Send input to GPU\n",
        "        batch = {k: v.cuda() if isinstance(v, torch.Tensor) else v for k, v in batch.items()}\n",
        "\n",
        "            # Run evaluation step\n",
        "        out = self.evaluate_step(batch)\n",
        "        # Tensorboard logging every summary_steps steps\n",
        "        if self.evaluate_step_count % self.options.test.summary_steps == 0:\n",
        "          self.evaluate_summaries(batch, out)\n",
        "\n",
        "            # add later to log at step 0\n",
        "          self.evaluate_step_count += 1\n",
        "          self.total_step_count += 1\n",
        "\n",
        "      for key, val in self.get_result_summary().items():\n",
        "            scalar = val\n",
        "            if isinstance(val, AverageMeter):\n",
        "                scalar = val.avg\n",
        "            self.logger.info(\"Test [%06d] %s: %.6f\" % (self.total_step_count, key, scalar))\n",
        "            self.summary_writer.add_scalar(\"eval_\" + key, scalar, self.total_step_count + 1)\n",
        "\n",
        "\n",
        "    def average_of_average_meters(self, average_meters):\n",
        "      s = sum([meter.sum for meter in average_meters])\n",
        "      c = sum([meter.count for meter in average_meters])\n",
        "      weighted_avg = s / c if c > 0 else 0.\n",
        "      avg = sum([meter.avg for meter in average_meters]) / len(average_meters)\n",
        "      ret = AverageMeter()\n",
        "      if self.weighted_mean:\n",
        "        ret.val, ret.avg = avg, weighted_avg\n",
        "      else:\n",
        "        ret.val, ret.avg = weighted_avg, avg\n",
        "      return ret\n",
        "\n",
        "    def get_result_summary(self):\n",
        "      if self.options.model.name == \"pixel2mesh\":\n",
        "        return {\n",
        "                \"cd\": self.average_of_average_meters(self.chamfer_distance),\n",
        "                \"f1_tau\": self.average_of_average_meters(self.f1_tau),\n",
        "                \"f1_2tau\": self.average_of_average_meters(self.f1_2tau),\n",
        "               }\n",
        "      elif self.options.model.name == \"classifier\":\n",
        "        return {\n",
        "                \"acc_1\": self.acc_1,\n",
        "                \"acc_5\": self.acc_5,\n",
        "               }\n",
        "\n",
        "    def evaluate_summaries(self, input_batch, out_summary):\n",
        "        self.logger.info(\"Test Step %06d/%06d (%06d) \" % (self.evaluate_step_count, len(self.dataset) // (self.options.num_gpus * self.options.test.batch_size), self.total_step_count,) + \", \".join([key + \" \" + (str(val) if isinstance(val, AverageMeter) else \"%.6f\" % val)\n",
        "          for key, val in self.get_result_summary().items()]))\n",
        "        self.summary_writer.add_histogram(\"eval_labels\", input_batch[\"labels\"].cpu().numpy(),\n",
        "                                          self.total_step_count)\n",
        "        if self.renderer is not None:\n",
        "            # Do visualization for the first 2 images of the batch\n",
        "            render_mesh = self.renderer.p2m_batch_visualize(input_batch, out_summary, self.ellipsoid.faces)\n",
        "            self.summary_writer.add_image(\"eval_render_mesh\", render_mesh, self.total_step_count)\n",
        "\n",
        "\n"
      ]
    }
  ],
  "metadata": {
    "accelerator": "GPU",
    "colab": {
      "provenance": []
    },
    "kernelspec": {
      "display_name": "Python 3",
      "name": "python3"
    },
    "language_info": {
      "name": "python"
    }
  },
  "nbformat": 4,
  "nbformat_minor": 0
}